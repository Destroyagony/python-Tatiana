{
 "cells": [
  {
   "cell_type": "markdown",
   "metadata": {},
   "source": [
    "1.enter Senatorov team. Chiise a person to fork.\n",
    "2. Choose a peson's repository for fork or ask for recomendation (@Yugay_Irina help me to choose repository for review) \n",
    "3. Fork rep. and create a dev branch: Settings-> default brach-> swich to another brannch- > dev\n",
    "4. Ask for permission @senatorov to work as a team in GIT chat\n",
    "5. Clone: VS code-> source control->...-> clone -> choose colegue's repository\n",
    "6.Modification: \n",
    "7. Commit & Push\n",
    "8. Contact @irina in Code review to give a review and add a link on the commit ( copy from GITHUB)"
   ]
  }
 ],
 "metadata": {
  "language_info": {
   "name": "python"
  },
  "orig_nbformat": 4
 },
 "nbformat": 4,
 "nbformat_minor": 2
}
