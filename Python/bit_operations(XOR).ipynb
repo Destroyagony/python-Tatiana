{
 "cells": [
  {
   "cell_type": "markdown",
   "metadata": {},
   "source": [
    "Priority of operations:\n",
    "1) ~ (NOT)\n",
    "2) & (AND)\n",
    "3) | , ^ (OR, XOR)"
   ]
  },
  {
   "cell_type": "markdown",
   "metadata": {},
   "source": [
    "Bit operation:\n",
    "x - not\n",
    "0 - 1\n",
    "1 - 0\n",
    "https://www.youtube.com/watch?v=myW_9B9T_II"
   ]
  },
  {
   "cell_type": "markdown",
   "metadata": {},
   "source": [
    "Any number is cided by a sequention of bits. The first bit determines the sign in front of the number. If it is 0 - the number is negative, if 1 - positive. \n",
    "\n",
    "As we invert the number (~ a), all zeroes turn to ones (0=>1), which is equal to -1 in decimal system. "
   ]
  },
  {
   "cell_type": "code",
   "execution_count": 1,
   "metadata": {},
   "outputs": [
    {
     "name": "stdout",
     "output_type": "stream",
     "text": [
      "0b1111001\n"
     ]
    },
    {
     "data": {
      "text/plain": [
       "-122"
      ]
     },
     "execution_count": 1,
     "metadata": {},
     "output_type": "execute_result"
    }
   ],
   "source": [
    "a = 121\n",
    "print(bin(a)) # presenting a in bits\n",
    "~a #formulae: (-1) * 121-1 = -122"
   ]
  },
  {
   "cell_type": "code",
   "execution_count": 5,
   "metadata": {},
   "outputs": [
    {
     "name": "stdout",
     "output_type": "stream",
     "text": [
      "-1 for 0\n",
      "-12 for 11\n",
      "7 for -8\n"
     ]
    }
   ],
   "source": [
    "d = 0\n",
    "print(~d,'for 0')\n",
    "c = 11\n",
    "print(~c, 'for 11')\n",
    "h = -8\n",
    "print(~h, 'for -8')"
   ]
  },
  {
   "cell_type": "markdown",
   "metadata": {},
   "source": [
    "# Bit operation: AND (&, *, амперсанд)"
   ]
  },
  {
   "cell_type": "markdown",
   "metadata": {},
   "source": [
    "operation is used when we have to check whether the bin is on or off.\n",
    "The numeration of bins starts from zero and directed right to left.\n",
    "In bins 1 means that the bin is ON and 0 that it is OFF. \n",
    "Thus with & operation we check whether the bin = 1 (on) or 0(off). "
   ]
  },
  {
   "cell_type": "markdown",
   "metadata": {},
   "source": [
    "x1  x2  &   \n",
    "0   0   0\n",
    "0   1   0   x1&x2\n",
    "1   0   0\n",
    "1   1   1 - checking the bin "
   ]
  },
  {
   "cell_type": "code",
   "execution_count": 17,
   "metadata": {},
   "outputs": [
    {
     "name": "stdout",
     "output_type": "stream",
     "text": [
      "5: 0b101\n",
      "4: 0b100\n",
      "res: 0b100\n"
     ]
    },
    {
     "data": {
      "text/plain": [
       "4"
      ]
     },
     "execution_count": 17,
     "metadata": {},
     "output_type": "execute_result"
    }
   ],
   "source": [
    "flags = 5\n",
    "mask = 4\n",
    "res = flags & mask\n",
    "# flags &= mask # short form \n",
    "print('5:', bin(flags))\n",
    "print('4:',bin(mask))\n",
    "print('res:', bin(res))\n",
    "res"
   ]
  },
  {
   "cell_type": "code",
   "execution_count": 20,
   "metadata": {},
   "outputs": [
    {
     "name": "stdout",
     "output_type": "stream",
     "text": [
      "2d bin is on\n"
     ]
    }
   ],
   "source": [
    "flags = 5 # 1\n",
    "mask = 4\n",
    "if flags & mask==mask: # we check whether the 2d bin in num 5 is on or not \n",
    "    print('2d bin is on')\n",
    "else:\n",
    "    print('2d bin is off')"
   ]
  },
  {
   "cell_type": "code",
   "execution_count": 32,
   "metadata": {},
   "outputs": [
    {
     "name": "stdout",
     "output_type": "stream",
     "text": [
      "1) flags 13: 0b1101\n",
      "\n",
      "2) mask to ~mask ( 5=>-6): 0b101 -0b110\n",
      "flags_res: 0b1000\n",
      "8\n"
     ]
    }
   ],
   "source": [
    "flags = 13 # \n",
    "mask = 5\n",
    "flags_res = flags & ~ mask # we check whether the 2d bin in num 5 is on or not \n",
    "print('1) flags 13:', bin(flags))# does not change\n",
    "print()\n",
    "print('2) mask to ~mask ( 5=>-6):',bin(mask),bin(~mask))\n",
    "\n",
    "print('flags_res:', bin(flags_res))\n",
    "print(flags_res)\n",
    " "
   ]
  },
  {
   "cell_type": "markdown",
   "metadata": {},
   "source": [
    "# Bin operation OR (|)"
   ]
  },
  {
   "cell_type": "markdown",
   "metadata": {},
   "source": [
    "x1  x2  OR\n",
    "0   0   0 - Zero if both bins are 0s \n",
    "0   1   1 - Else we have 1s\n",
    "1   0   1 - Thus we switch on the bins \n",
    "1   1   1"
   ]
  },
  {
   "cell_type": "code",
   "execution_count": 44,
   "metadata": {},
   "outputs": [
    {
     "name": "stdout",
     "output_type": "stream",
     "text": [
      "1) flags 8: 0b1000\n",
      "2) mask 5: 0b101\n",
      "3) flags_res 13: 0b1101\n"
     ]
    }
   ],
   "source": [
    "flags = 8 # \n",
    "mask = 5\n",
    "#flags_res = flags | mask # we check whether the 2d bin in num 5 is on or not \n",
    "flags_res |= mask # short form\n",
    "print(f'1) flags {flags}:', bin(flags))# does not change\n",
    "\n",
    "print(f'2) mask {mask}:',bin(mask))\n",
    "\n",
    "print(f'3) flags_res {flags_res}:' ,bin(flags_res))\n"
   ]
  },
  {
   "cell_type": "markdown",
   "metadata": {},
   "source": [
    "# Bin operation Excluding OR (XOR=исключающее ИЛИ)"
   ]
  },
  {
   "cell_type": "markdown",
   "metadata": {},
   "source": [
    "x1  x2  xor is used for switching  \n",
    "0   0   0   btw bins.\n",
    "0   1   1\n",
    "1   0   1\n",
    "1   1   0 "
   ]
  },
  {
   "cell_type": "code",
   "execution_count": 43,
   "metadata": {},
   "outputs": [
    {
     "name": "stdout",
     "output_type": "stream",
     "text": [
      "1) flags 9: 0b1001\n",
      "2) mask 1: 0b1\n",
      "3) flags_res 8: 0b1000\n"
     ]
    }
   ],
   "source": [
    "flags = 9 # x1\n",
    "mask = 1 # x2 switching off the 1st bin\n",
    "flags_res = flags ^ mask # we check whether the 2d bin in num 5 is on or not \n",
    "#flags_res = flags ^ mask # если применить xor дважды к одной переменной то выйдем на эту же переименную.Тк  биты у нас переключились обратно.\n",
    "#  flags ^= mask # short form \n",
    "print(f'1) flags {flags}:', bin(flags))# does not change\n",
    "\n",
    "print(f'2) mask {mask}:',bin(mask))\n",
    "\n",
    "print(f'3) flags_res {flags_res}:' ,bin(flags_res))"
   ]
  },
  {
   "cell_type": "markdown",
   "metadata": {},
   "source": [
    "# >> , << (Swift Righ/Left)"
   ]
  },
  {
   "cell_type": "code",
   "execution_count": 49,
   "metadata": {},
   "outputs": [
    {
     "name": "stdout",
     "output_type": "stream",
     "text": [
      "160 0b10100000\n",
      "80 0b1010000\n",
      "20 0b10100\n",
      "5 0b101\n",
      "2 0b10\n"
     ]
    }
   ],
   "source": [
    "x = 160\n",
    "print(f'{x}', bin(x))\n",
    "x = x >> 1 # сдвигаем биты вправо на 1 = devide an origin by 2\n",
    "print(f'{x}', bin(x)) # стало на 1 ноль меньше\n",
    "\n",
    "x = x >> 2 # сдвигаем биты вправо на 2 = devide an origin by 2**2\n",
    "print(f'{x}', bin(x))\n",
    "\n",
    "x = x >> 2 # сдвигаем биты вправо на 2 = devide an origin by 2**2\n",
    "print(f'{x}', bin(x))\n",
    "\n",
    "x = x >> 1 # сдвигаем биты вправо на 1 = devide an origin by 2\n",
    "print(f'{x}', bin(x))\n",
    "# x >> 1 == x//2\n",
    "# x >> 2 == x//4"
   ]
  },
  {
   "cell_type": "code",
   "execution_count": 51,
   "metadata": {},
   "outputs": [
    {
     "name": "stdout",
     "output_type": "stream",
     "text": [
      "2 0b10\n",
      "4 0b100\n",
      "32 0b100000\n"
     ]
    }
   ],
   "source": [
    "x = 2\n",
    "print(f'{x}', bin(x))\n",
    "x = x << 1 # сдвигаем биты влево на 1 = multiply an origin by 2\n",
    "print(f'{x}', bin(x)) # \n",
    "x = x << 3 # multiply an origin by 2**3\n",
    "print(f'{x}', bin(x)) # "
   ]
  }
 ],
 "metadata": {
  "kernelspec": {
   "display_name": "base",
   "language": "python",
   "name": "python3"
  },
  "language_info": {
   "codemirror_mode": {
    "name": "ipython",
    "version": 3
   },
   "file_extension": ".py",
   "mimetype": "text/x-python",
   "name": "python",
   "nbconvert_exporter": "python",
   "pygments_lexer": "ipython3",
   "version": "3.11.4"
  },
  "orig_nbformat": 4
 },
 "nbformat": 4,
 "nbformat_minor": 2
}
