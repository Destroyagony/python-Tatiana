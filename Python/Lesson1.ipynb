{
 "cells": [
  {
   "cell_type": "markdown",
   "metadata": {},
   "source": [
    "Fork это операция клонирования чужого репозитория в сво  личный аакаунт гитхаба, для дальнейшего пул реквеста. \n",
    "Pull requests - это процедура переноса изменетй из личного репозитория в форкнутый репозиторий, возможен только при наличии изменений."
   ]
  },
  {
   "cell_type": "markdown",
   "metadata": {},
   "source": [
    "Октивация виртуального окружения \n",
    "python -m venv venv"
   ]
  },
  {
   "cell_type": "markdown",
   "metadata": {},
   "source": [
    "Linter - это инструмент анализа и потска ошиюок, согласно PEP 8.\n",
    "Flake8 - это linter .\n",
    "Black - это тнструмент автоформатирования кода согласна linter/\n"
   ]
  }
 ],
 "metadata": {
  "kernelspec": {
   "display_name": "Python 3.8.0 ('venv': venv)",
   "language": "python",
   "name": "python3"
  },
  "language_info": {
   "name": "python",
   "version": "3.8.0"
  },
  "orig_nbformat": 4,
  "vscode": {
   "interpreter": {
    "hash": "7debfb7ff2a65a67fe4c33e05f6711e03aa7e44d9c4bd9c2a5f14dff9cc136af"
   }
  }
 },
 "nbformat": 4,
 "nbformat_minor": 2
}
