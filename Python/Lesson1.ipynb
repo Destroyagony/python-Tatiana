{
 "cells": [
  {
   "cell_type": "markdown",
   "metadata": {},
   "source": [
    "Fork это операция клонирования чужого репозитория в сво  личный аакаунт гитхаба, для дальнейшего пул реквеста. \n",
    "Pull requests - это процедура переноса изменетй из личного репозитория в форкнутый репозиторий, возможен только при наличии изменений."
   ]
  },
  {
   "cell_type": "markdown",
   "metadata": {},
   "source": [
    "Linter - это инструмент анализа и потска ошиюок, согласно PEP 8.\n",
    "Flake8 - это linter .\n",
    "Black - это тнструмент автоформатирования кода согласна linter/\n"
   ]
  },
  {
   "cell_type": "code",
   "execution_count": null,
   "metadata": {},
   "outputs": [],
   "source": []
  }
 ],
 "metadata": {
  "kernelspec": {
   "display_name": "Python 3.8.0 64-bit",
   "language": "python",
   "name": "python3"
  },
  "language_info": {
   "name": "python",
   "version": "3.8.0"
  },
  "orig_nbformat": 4,
  "vscode": {
   "interpreter": {
    "hash": "177dafdcf858f3dda1e780302481ba2c4ad0f906c274c6efb7b90f2d3faa0434"
   }
  }
 },
 "nbformat": 4,
 "nbformat_minor": 2
}
