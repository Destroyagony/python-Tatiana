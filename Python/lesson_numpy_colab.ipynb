{
  "nbformat": 4,
  "nbformat_minor": 0,
  "metadata": {
    "colab": {
      "provenance": []
    },
    "kernelspec": {
      "name": "python3",
      "display_name": "Python 3"
    },
    "language_info": {
      "name": "python"
    }
  },
  "cells": [
    {
      "cell_type": "code",
      "source": [
        "import numpy as np"
      ],
      "metadata": {
        "id": "Thtg5UcT717d"
      },
      "execution_count": null,
      "outputs": []
    },
    {
      "cell_type": "code",
      "execution_count": null,
      "metadata": {
        "id": "6yfBxjFu4GK8"
      },
      "outputs": [],
      "source": [
        "def unit_vec(vector):\n",
        "  mu = np.linalg.norm(vector)\n",
        "  return vector / mu"
      ]
    },
    {
      "cell_type": "code",
      "source": [
        "unit_vec(np.array([0,1,0]))"
      ],
      "metadata": {
        "colab": {
          "base_uri": "https://localhost:8080/"
        },
        "id": "xtLvZXSv7wte",
        "outputId": "90e1a484-2b17-4d9e-be7e-8b394ada24a0"
      },
      "execution_count": null,
      "outputs": [
        {
          "output_type": "execute_result",
          "data": {
            "text/plain": [
              "array([0., 1., 0.])"
            ]
          },
          "metadata": {},
          "execution_count": 5
        }
      ]
    },
    {
      "cell_type": "code",
      "source": [
        "unit_vec(np.array([5,3,2]))"
      ],
      "metadata": {
        "colab": {
          "base_uri": "https://localhost:8080/"
        },
        "id": "2zYXF4-D76jq",
        "outputId": "9c8c08f3-8a37-4a2c-9398-a73dff669352"
      },
      "execution_count": null,
      "outputs": [
        {
          "output_type": "execute_result",
          "data": {
            "text/plain": [
              "array([0.81110711, 0.48666426, 0.32444284])"
            ]
          },
          "metadata": {},
          "execution_count": 6
        }
      ]
    },
    {
      "cell_type": "code",
      "source": [
        "def vec(vector, mag):\n",
        "  mu = np.linalg.norm(vector)\n",
        "  return mag * vector / mu"
      ],
      "metadata": {
        "id": "cY0ubj3o7-6y"
      },
      "execution_count": null,
      "outputs": []
    },
    {
      "cell_type": "code",
      "source": [
        "v = np.array([[1,2,3]])\n",
        "vt = np.zeros((3,1))\n",
        "\n",
        "for i in range(v.shape[1]):\n",
        "    vt[i, 0] = v[0, i]\n",
        "\n",
        "vt"
      ],
      "metadata": {
        "colab": {
          "base_uri": "https://localhost:8080/"
        },
        "id": "J9YICh398lzo",
        "outputId": "588551ea-0b5d-4357-9e6a-908b78c1cfe6"
      },
      "execution_count": null,
      "outputs": [
        {
          "output_type": "execute_result",
          "data": {
            "text/plain": [
              "array([[1.],\n",
              "       [2.],\n",
              "       [3.]])"
            ]
          },
          "metadata": {},
          "execution_count": 21
        }
      ]
    },
    {
      "cell_type": "code",
      "source": [
        "# aTb = bTa # Коммутативный закон\n",
        "\n",
        "np.dot([1,2,3], [4,5,6]) == np.dot([4,5,6], [1,2,3],) # висящая запятая\n"
      ],
      "metadata": {
        "colab": {
          "base_uri": "https://localhost:8080/"
        },
        "id": "-WilxUH3-Axz",
        "outputId": "f2f15850-cc9e-4ea8-aba8-4e8422ed5b47"
      },
      "execution_count": null,
      "outputs": [
        {
          "output_type": "execute_result",
          "data": {
            "text/plain": [
              "True"
            ]
          },
          "metadata": {},
          "execution_count": 23
        }
      ]
    },
    {
      "cell_type": "code",
      "source": [
        "n = 11\n",
        "\n",
        "a = np.random.randn(n,1) # row / column\n",
        "b = np.random.randn(n,1)\n",
        "\n",
        "aTb = np.sum(a*b)\n",
        "bTa = np.sum(b*a)\n",
        "\n",
        "aTb - bTa\n",
        "\n",
        "# help(np.random.randn)\n"
      ],
      "metadata": {
        "colab": {
          "base_uri": "https://localhost:8080/"
        },
        "id": "poC8gDTg-9kG",
        "outputId": "89d32188-383d-4067-d5ea-e6b85b3e175d"
      },
      "execution_count": null,
      "outputs": [
        {
          "output_type": "execute_result",
          "data": {
            "text/plain": [
              "0.0"
            ]
          },
          "metadata": {},
          "execution_count": 32
        }
      ]
    },
    {
      "cell_type": "code",
      "source": [
        "V = {v1,...,Vn} # множетсво векторов\n",
        "\n"
      ],
      "metadata": {
        "id": "N66eE9sUAIt3"
      },
      "execution_count": null,
      "outputs": []
    },
    {
      "cell_type": "code",
      "source": [
        "# Линейная комбинация  / взвешенная / линейная смесь\n",
        "\n",
        "w = λ1*v1 + λ2*v2+...+λnvn  # Линейная комбинация - умножение вектора на скаляр и сложение\n",
        "# vi - одинаковая размерность, λ любое действиетельное число включая ноль\n",
        "# Сложение векторов только равной размерности!\n"
      ],
      "metadata": {
        "id": "rJIPYgHFAYkV"
      },
      "execution_count": null,
      "outputs": []
    },
    {
      "cell_type": "code",
      "source": [
        "λ1 = 1, λ2 = 2, λ3 = 3\n",
        "\n",
        "v1 = [1,2,3] # [1,2,3]\n",
        "v2 = [4,5,6] # [8,10,12]\n",
        "v3 = [3,1,5] # [9,3,15]\n",
        "\n",
        "w = λ1*v1 + λ2*v2+...+λnvn = [18,15,30]\n"
      ],
      "metadata": {
        "id": "s5r8Li3yBa4t"
      },
      "execution_count": null,
      "outputs": []
    },
    {
      "cell_type": "markdown",
      "source": [
        "Множество векторов является **линейно зависимым**, если по меньшей мере один вектор в множетве можно выразить как линейную комбинацию, других векторов в этом множестве\n",
        "\n",
        "И следовательно множество является **линейно независимым**, если ни один вектор нельзя выразить как линейную комбинацию"
      ],
      "metadata": {
        "id": "kibYWLODB_wH"
      }
    },
    {
      "cell_type": "code",
      "source": [
        "# V = {[1,3],[2,7]} # unhashable\n",
        "V = {(1,3),(2,7)} # линейно независимые, невозможно подобрать скаляр\n",
        "V2 = {(1,3),(2,6)} # линейно зависимые\n",
        "v1 = λv2\n"
      ],
      "metadata": {
        "colab": {
          "base_uri": "https://localhost:8080/"
        },
        "id": "uWHUzcgcCzld",
        "outputId": "8d280954-e9e5-4518-fe0c-e40d2ad73136"
      },
      "execution_count": null,
      "outputs": [
        {
          "output_type": "execute_result",
          "data": {
            "text/plain": [
              "{(1, 3), (2, 7)}"
            ]
          },
          "metadata": {},
          "execution_count": 39
        }
      ]
    },
    {
      "cell_type": "code",
      "source": [
        "# Линейная зависимость векторов\n",
        "a1 * x1+ a2*x2+..+an*xn = 0\n",
        "# Если равенство выполняется при ai, не все из которых =0, то такая система векторов x1, x2, ..., xn называется линейно зависисмой.\n"
      ],
      "metadata": {
        "id": "OgsNEn6dAWaY"
      },
      "execution_count": null,
      "outputs": []
    },
    {
      "cell_type": "markdown",
      "source": [
        "Лининейные(векторные) пространства:\n",
        "Расстомтрим такое {x} на котром ведем=определеим 2 операции:\n",
        "* сложение элементов\n",
        "*  умножение элемента на число(R).\n",
        "При совершении любой из этих операций элемент останется в данном {x}."
      ],
      "metadata": {
        "id": "Hv_gG3GD13iU"
      }
    },
    {
      "cell_type": "markdown",
      "source": [
        "\n",
        "Если выполняются аксиомы, которые определены ниже, то такое\n",
        "\n",
        " мн-во наз-ся линейным пространством!\n",
        "\n",
        "* если элементы линейного пространства - векторы, то данное пространство  ЛИНЕНЙНО-ВЕКТОРНОЕ\n",
        "*"
      ],
      "metadata": {
        "id": "m0Bcv45x3W_0"
      }
    },
    {
      "cell_type": "markdown",
      "source": [
        "Аксиома линейного(-векторного) пространства:\n",
        "\n",
        "\n",
        "1.   элементы ЛП коммутативны: a + b=b+a; a,b belongs X\n",
        "2.   сложение эл-тов ассоциативно: a + (b+c) = (a+b)+c ; a,b,c belongs X\n",
        "3.   мно-во X содержит 0-элемент  для которого: a+0=a; a brlongs X   \n",
        "4.  В мно-ве  X для любого эл-та существует обратный элемнет, те a & (-a). При этом выполняется a + (-a)=0; a, (-a) belongs X\n",
        "5.    Произвдение суммы элементов из множества X на число РАВНО сумме произведений этого числа на данные элементы. q*(a+b)=q*a+q*b;a,b belongs X & q belongs R\n",
        "6. Произведение суммы чисел на элемент множества Х РАВНО сумме произведений элемента на заданные числа: (q+p)*a=q*a+p*a; a belongs X & p, q belong R\n",
        "7.   Произведение чисел умноженное на элемент из множества Х РАВНО произведению одного из чисел и элемента, умноженного на другое число.\n",
        "(q*p)*a = q*(p*a); a belongs X & p, q belong R\n",
        "8. Множество Х содержит единичный элемент для которго справедливо равенство 1*a = a; a belongs X, 1 - scalar\n"
      ],
      "metadata": {
        "id": "xIfRqUuc30yM"
      }
    },
    {
      "cell_type": "code",
      "source": [],
      "metadata": {
        "id": "rZWzexe827TC"
      },
      "execution_count": null,
      "outputs": []
    }
  ]
}