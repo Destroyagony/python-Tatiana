{
 "cells": [
  {
   "cell_type": "code",
   "execution_count": null,
   "metadata": {},
   "outputs": [],
   "source": []
  },
  {
   "cell_type": "markdown",
   "metadata": {},
   "source": [
    "# 9. Palindrome Number\n"
   ]
  },
  {
   "cell_type": "code",
   "execution_count": 1,
   "metadata": {},
   "outputs": [
    {
     "data": {
      "text/plain": [
       "True"
      ]
     },
     "execution_count": 1,
     "metadata": {},
     "output_type": "execute_result"
    }
   ],
   "source": [
    "class Solution:\n",
    "    def isPalindrome(self, x: int) -> bool:\n",
    "        return  str(x) == str(x)[::-1]\n",
    "\n",
    "object1= Solution()# создание объекта или экземпляра класса\n",
    "dir(object1)\n",
    "object1.isPalindrome(101)"
   ]
  },
  {
   "cell_type": "code",
   "execution_count": null,
   "metadata": {},
   "outputs": [],
   "source": [
    "# Конструктор класса\n",
    "class Solution:\n",
    "    def __init__(self,x1) -> None: # Конструтор класса\n",
    "        self.x = x1 # создание свойства класса = переменной класса\n",
    "    \n",
    "    def isPalindrome(self) -> bool:\n",
    "            return  str(self.x) == str(self.x)[::-1]\n",
    "    \n",
    "object1= Solution(101)# создание объекта или экземпляра класса\n",
    "object1.isPalindrome()\n",
    "object1"
   ]
  },
  {
   "cell_type": "code",
   "execution_count": null,
   "metadata": {},
   "outputs": [],
   "source": [
    "class Cate:\n",
    "\n",
    "    data =  2022 # создание свойства класса явно\n",
    "\n",
    "    def isPalindrome(self) -> bool:\n",
    "            return  str(Cate.data) == str(Cate.data)[::-1]\n",
    "    \n"
   ]
  },
  {
   "cell_type": "markdown",
   "metadata": {},
   "source": [
    "Класс - это кониейнер для функций. \n",
    "Переменные в классе называются свойствами класса.\n",
    "Функции  в классе называются  методы класса. "
   ]
  },
  {
   "cell_type": "code",
   "execution_count": null,
   "metadata": {},
   "outputs": [],
   "source": [
    "name =  'hello'\n",
    "name[0]\n",
    "name[::2]\n",
    "name[::-1]"
   ]
  },
  {
   "cell_type": "markdown",
   "metadata": {},
   "source": [
    "# 1512. Number of Good Pairs\n",
    " https://leetcode.com/problems/number-of-good-pairs/"
   ]
  },
  {
   "cell_type": "code",
   "execution_count": null,
   "metadata": {},
   "outputs": [],
   "source": [
    "people = [\"Tom\", \"Bob\", \"Alice\", \"Tom\", \"Bill\", \"Tom\"]\n",
    " \n",
    "people_count = people.count(\"Tom\")\n",
    "print(people_count)      # 3"
   ]
  },
  {
   "cell_type": "code",
   "execution_count": null,
   "metadata": {},
   "outputs": [],
   "source": [
    "nums = [1,2,3,1,1,3]\n",
    "# nums = [1,1,1,1]\n",
    "# nums = [1,2,3]\n",
    "for i in range(len(nums)):\n",
    "    print(nums[i], nums.count(nums[i]))\n"
   ]
  },
  {
   "cell_type": "code",
   "execution_count": 39,
   "metadata": {},
   "outputs": [
    {
     "name": "stdout",
     "output_type": "stream",
     "text": [
      "{1: 1, 2: 1, 3: 1}\n"
     ]
    }
   ],
   "source": [
    "from collections import Counter\n",
    "\n",
    "# nums = [1,2,3,1,1,3]  # сроздаем список чисел\n",
    "# nums = [1,1,1,1]\n",
    "nums = [1, 2, 3]             \n",
    "pairs = dict(Counter(nums))# методом count подсчитываем количество вхождений каждого элемента в список.И превращаем в словарь\n",
    "num_entrants = list(pairs.values()) # обращаемся к значениям словаря и превращаем в список\n",
    "# num_entrants.remove(1) # удаляем занчение 1\n",
    "print(pairs)#, num_entrants) #"
   ]
  },
  {
   "cell_type": "code",
   "execution_count": 42,
   "metadata": {},
   "outputs": [],
   "source": [
    "# Реализация факториала через цикл\n",
    "def factorial(n):\n",
    "  f = 1\n",
    "  for x in range(1, n+1):\n",
    "    f *= x\n",
    "  return f"
   ]
  },
  {
   "cell_type": "code",
   "execution_count": null,
   "metadata": {},
   "outputs": [],
   "source": [
    "factorial(3)"
   ]
  },
  {
   "cell_type": "code",
   "execution_count": null,
   "metadata": {},
   "outputs": [],
   "source": [
    "# Перестановки без повторений - n!\n",
    "def P(n):  \n",
    "  return factorial(n)\n",
    "\n",
    "P(3)"
   ]
  },
  {
   "cell_type": "code",
   "execution_count": 43,
   "metadata": {},
   "outputs": [],
   "source": [
    "# Сочетания без повторений - n! / ((n-m)! * m!)\n",
    "def C_n_m(n, m):\n",
    "  return factorial(n) / (factorial(n-m) * factorial(m))"
   ]
  },
  {
   "cell_type": "code",
   "execution_count": 44,
   "metadata": {},
   "outputs": [
    {
     "data": {
      "text/plain": [
       "3.0"
      ]
     },
     "execution_count": 44,
     "metadata": {},
     "output_type": "execute_result"
    }
   ],
   "source": [
    "C_n_m(3, 2)\n"
   ]
  },
  {
   "cell_type": "code",
   "execution_count": 2,
   "metadata": {},
   "outputs": [],
   "source": [
    "from collections import Counter\n",
    "\n",
    "# Реализация факториала через цикл\n",
    "\n",
    "def factorial(n):\n",
    "  f = 1\n",
    "  for x in range(1, n+1):\n",
    "    f *= x\n",
    "  return f\n",
    "\n",
    "def C_n_m(n, m):\n",
    "  return factorial(n) / (factorial(n-m) * factorial(m))"
   ]
  },
  {
   "cell_type": "code",
   "execution_count": 3,
   "metadata": {},
   "outputs": [
    {
     "name": "stdout",
     "output_type": "stream",
     "text": [
      "4\n"
     ]
    }
   ],
   "source": [
    "# РЕШЕНИЕ\n",
    "\n",
    "nums = [1,2,3,1,1,3]  # сроздаем список чисел\n",
    "# nums = [1,1,1,1]\n",
    "#nums = [1,2,3]  # сроздаем список чисел              \n",
    "pairs = dict(Counter(nums))# методом count подсчитываем количество вхождений каждого элемента в список.И превращаем в словарь\n",
    "num_entrants = list(pairs.values()) # обращаемся к значениям словаря и превращаем в список\n",
    "\n",
    "num_pairs = 0\n",
    "for i in num_entrants:\n",
    "  if i > 1:\n",
    "     num_pairs += int(C_n_m(i, 2))\n",
    "  else: \n",
    "    pass\n",
    "print(num_pairs)"
   ]
  },
  {
   "cell_type": "code",
   "execution_count": 5,
   "metadata": {},
   "outputs": [
    {
     "name": "stdout",
     "output_type": "stream",
     "text": [
      "Collecting flake8-variables-names\n",
      "  Obtaining dependency information for flake8-variables-names from https://files.pythonhosted.org/packages/3a/e8/845c33c7ac0f6c495c5cbcfebc6a281b28017570f2edea65b24daaed47f0/flake8_variables_names-0.0.6-py3-none-any.whl.metadata\n",
      "  Downloading flake8_variables_names-0.0.6-py3-none-any.whl.metadata (3.5 kB)\n",
      "Downloading flake8_variables_names-0.0.6-py3-none-any.whl (6.1 kB)\n",
      "Installing collected packages: flake8-variables-names\n",
      "Successfully installed flake8-variables-names-0.0.6\n",
      "Collecting flake8-functions-names\n",
      "  Downloading flake8_functions_names-0.4.0.tar.gz (10 kB)\n",
      "  Preparing metadata (setup.py) ... \u001b[?25ldone\n",
      "\u001b[?25hRequirement already satisfied: setuptools in /home/tatiana/anaconda3/lib/python3.11/site-packages (from flake8-functions-names) (68.0.0)\n",
      "Building wheels for collected packages: flake8-functions-names\n",
      "  Building wheel for flake8-functions-names (setup.py) ... \u001b[?25ldone\n",
      "\u001b[?25h  Created wheel for flake8-functions-names: filename=flake8_functions_names-0.4.0-py3-none-any.whl size=10428 sha256=add1e1b8b1aaeb46ff98fe47d6889a5b583a623f6bdf21b0144e22892b109b7d\n",
      "  Stored in directory: /home/tatiana/.cache/pip/wheels/18/51/2d/448eed45112119bdf0897c526c4065cc87e2b5e009c3913c13\n",
      "Successfully built flake8-functions-names\n",
      "Installing collected packages: flake8-functions-names\n",
      "Successfully installed flake8-functions-names-0.4.0\n",
      "Collecting flake8-builtins\n",
      "  Downloading flake8_builtins-2.1.0-py3-none-any.whl (13 kB)\n",
      "Requirement already satisfied: flake8 in /home/tatiana/anaconda3/lib/python3.11/site-packages (from flake8-builtins) (6.0.0)\n",
      "Requirement already satisfied: mccabe<0.8.0,>=0.7.0 in /home/tatiana/anaconda3/lib/python3.11/site-packages (from flake8->flake8-builtins) (0.7.0)\n",
      "Requirement already satisfied: pycodestyle<2.11.0,>=2.10.0 in /home/tatiana/anaconda3/lib/python3.11/site-packages (from flake8->flake8-builtins) (2.10.0)\n",
      "Requirement already satisfied: pyflakes<3.1.0,>=3.0.0 in /home/tatiana/anaconda3/lib/python3.11/site-packages (from flake8->flake8-builtins) (3.0.1)\n",
      "Installing collected packages: flake8-builtins\n",
      "Successfully installed flake8-builtins-2.1.0\n",
      "Collecting flake8-bugbear\n",
      "  Obtaining dependency information for flake8-bugbear from https://files.pythonhosted.org/packages/0a/44/7087123a8df4cca1dd5f89f2ce3b3f0a71a15360d60aefa18434e6e4fda6/flake8_bugbear-23.9.16-py3-none-any.whl.metadata\n",
      "  Downloading flake8_bugbear-23.9.16-py3-none-any.whl.metadata (28 kB)\n",
      "Requirement already satisfied: flake8>=6.0.0 in /home/tatiana/anaconda3/lib/python3.11/site-packages (from flake8-bugbear) (6.0.0)\n",
      "Requirement already satisfied: attrs>=19.2.0 in /home/tatiana/anaconda3/lib/python3.11/site-packages (from flake8-bugbear) (22.1.0)\n",
      "Requirement already satisfied: mccabe<0.8.0,>=0.7.0 in /home/tatiana/anaconda3/lib/python3.11/site-packages (from flake8>=6.0.0->flake8-bugbear) (0.7.0)\n",
      "Requirement already satisfied: pycodestyle<2.11.0,>=2.10.0 in /home/tatiana/anaconda3/lib/python3.11/site-packages (from flake8>=6.0.0->flake8-bugbear) (2.10.0)\n",
      "Requirement already satisfied: pyflakes<3.1.0,>=3.0.0 in /home/tatiana/anaconda3/lib/python3.11/site-packages (from flake8>=6.0.0->flake8-bugbear) (3.0.1)\n",
      "Downloading flake8_bugbear-23.9.16-py3-none-any.whl (30 kB)\n",
      "Installing collected packages: flake8-bugbear\n",
      "Successfully installed flake8-bugbear-23.9.16\n",
      "Collecting pep8-naming\n",
      "  Downloading pep8_naming-0.13.3-py3-none-any.whl (8.5 kB)\n",
      "Requirement already satisfied: flake8>=5.0.0 in /home/tatiana/anaconda3/lib/python3.11/site-packages (from pep8-naming) (6.0.0)\n",
      "Requirement already satisfied: mccabe<0.8.0,>=0.7.0 in /home/tatiana/anaconda3/lib/python3.11/site-packages (from flake8>=5.0.0->pep8-naming) (0.7.0)\n",
      "Requirement already satisfied: pycodestyle<2.11.0,>=2.10.0 in /home/tatiana/anaconda3/lib/python3.11/site-packages (from flake8>=5.0.0->pep8-naming) (2.10.0)\n",
      "Requirement already satisfied: pyflakes<3.1.0,>=3.0.0 in /home/tatiana/anaconda3/lib/python3.11/site-packages (from flake8>=5.0.0->pep8-naming) (3.0.1)\n",
      "Installing collected packages: pep8-naming\n",
      "Successfully installed pep8-naming-0.13.3\n"
     ]
    }
   ],
   "source": [
    "!pip install flake8-variables-names\n",
    "!pip install flake8-functions-names\n",
    "!pip install flake8-builtins\n",
    "!pip install flake8-bugbear\n",
    "!pip install pep8-naming"
   ]
  },
  {
   "cell_type": "code",
   "execution_count": null,
   "metadata": {},
   "outputs": [
    {
     "data": {
      "text/plain": [
       "[1, 2, 3, 1]"
      ]
     },
     "execution_count": 60,
     "metadata": {},
     "output_type": "execute_result"
    }
   ],
   "source": [
    "nums = [1,2,3,1,1,3]\n",
    "nums[:4:1]"
   ]
  },
  {
   "cell_type": "code",
   "execution_count": null,
   "metadata": {},
   "outputs": [
    {
     "name": "stdout",
     "output_type": "stream",
     "text": [
      "True\n"
     ]
    },
    {
     "ename": "IndexError",
     "evalue": "list index out of range",
     "output_type": "error",
     "traceback": [
      "\u001b[0;31m---------------------------------------------------------------------------\u001b[0m",
      "\u001b[0;31mIndexError\u001b[0m                                Traceback (most recent call last)",
      "Cell \u001b[0;32mIn[57], line 3\u001b[0m\n\u001b[1;32m      1\u001b[0m nums \u001b[39m=\u001b[39m [\u001b[39m1\u001b[39m,\u001b[39m2\u001b[39m,\u001b[39m3\u001b[39m,\u001b[39m1\u001b[39m,\u001b[39m1\u001b[39m,\u001b[39m3\u001b[39m]\n\u001b[1;32m      2\u001b[0m \u001b[39mfor\u001b[39;00m i \u001b[39min\u001b[39;00m \u001b[39mrange\u001b[39m(\u001b[39mlen\u001b[39m(nums)):\n\u001b[0;32m----> 3\u001b[0m     \u001b[39mif\u001b[39;00m nums[i] \u001b[39m==\u001b[39m nums[i\u001b[39m+\u001b[39;49m\u001b[39m1\u001b[39;49m]:\n\u001b[1;32m      4\u001b[0m         \u001b[39mprint\u001b[39m(nums[i] \u001b[39m==\u001b[39m nums[i\u001b[39m+\u001b[39m\u001b[39m1\u001b[39m])\n",
      "\u001b[0;31mIndexError\u001b[0m: list index out of range"
     ]
    }
   ],
   "source": [
    "nums = [1,2,3,1,1,3]\n",
    "for i in range(len(nums)):\n",
    "    if nums[i] == nums[:i:1]:\n",
    "        print(nums[i] == nums[i+1])"
   ]
  },
  {
   "cell_type": "code",
   "execution_count": 6,
   "metadata": {},
   "outputs": [
    {
     "ename": "TypeError",
     "evalue": "cannot convert dictionary update sequence element #0 to a sequence",
     "output_type": "error",
     "traceback": [
      "\u001b[0;31m---------------------------------------------------------------------------\u001b[0m",
      "\u001b[0;31mTypeError\u001b[0m                                 Traceback (most recent call last)",
      "Cell \u001b[0;32mIn[6], line 2\u001b[0m\n\u001b[1;32m      1\u001b[0m nums \u001b[39m=\u001b[39m [\u001b[39m1\u001b[39m,\u001b[39m2\u001b[39m,\u001b[39m3\u001b[39m,\u001b[39m1\u001b[39m,\u001b[39m1\u001b[39m,\u001b[39m3\u001b[39m]\n\u001b[0;32m----> 2\u001b[0m \u001b[39mdict\u001b[39;49m(nums)\n",
      "\u001b[0;31mTypeError\u001b[0m: cannot convert dictionary update sequence element #0 to a sequence"
     ]
    }
   ],
   "source": [
    "nums = [1,2,3,1,1,3]\n",
    "dic = {}\n",
    "num = 0 \n",
    "for j in nums:\n",
    "    for i in dic: \n",
    "        if dic[i]\n",
    "        \n",
    "\n",
    "\n",
    "           if v in repeat:\n",
    "                \n",
    "                # count number of pairs based on duplicate values\n",
    "                if repeat[v] == 1:\n",
    "                    num += 1\n",
    "                else:\n",
    "                    num += repeat[v]\n",
    "                \n",
    "                # increment the number of counts\n",
    "                repeat[v] += 1\n",
    "            # number has not been seen before\n",
    "            else:\n",
    "                repeat[v] = 1\n",
    "        # return\n",
    "        return num"
   ]
  },
  {
   "cell_type": "code",
   "execution_count": null,
   "metadata": {},
   "outputs": [],
   "source": [
    "class Solution:\n",
    "    \n",
    "    # search for duplicate numbers\n",
    "    def numIdenticalPairs(self, nums: List[int]) -> int:\n",
    "        \n",
    "        # number of good pairs\n",
    "        repeat = {} \n",
    "        num = 0\n",
    "        \n",
    "        # for every element in nums\n",
    "        for v in nums:\n",
    "            \n",
    "            # number of repeated digits\n",
    "            if v in repeat:\n",
    "                \n",
    "                # count number of pairs based on duplicate values\n",
    "                if repeat[v] == 1:\n",
    "                    num += 1\n",
    "                else:\n",
    "                    num += repeat[v]\n",
    "                \n",
    "                # increment the number of counts\n",
    "                repeat[v] += 1\n",
    "            # number has not been seen before\n",
    "            else:\n",
    "                repeat[v] = 1\n",
    "        # return\n",
    "        return num"
   ]
  },
  {
   "cell_type": "markdown",
   "metadata": {},
   "source": [
    "# 2469. Convert the Temperature\n",
    "https://leetcode.com/problems/convert-the-temperature/"
   ]
  },
  {
   "cell_type": "markdown",
   "metadata": {},
   "source": [
    "You are given a non-negative floating point number rounded to two decimal places celsius, that denotes the temperature in Celsius.\n",
    "\n",
    "You should convert Celsius into Kelvin and Fahrenheit and return it as an array ans = [kelvin, fahrenheit].\n",
    "\n",
    "Return the array ans. Answers within 10-5 of the actual answer will be accepted.\n",
    "\n",
    "Kelvin = Celsius + 273.15\n",
    "Fahrenheit = Celsius * 1.80 + 32.00"
   ]
  },
  {
   "cell_type": "code",
   "execution_count": null,
   "metadata": {},
   "outputs": [],
   "source": [
    "class Solution:\n",
    "    def convertTemperature(self, celsius: float):\n",
    "        Kelvin = celsius + 273.15\n",
    "        Fahrenheit = celsius * 1.80 + 32.00\n",
    "        return [Kelvin,Fahrenheit]"
   ]
  },
  {
   "cell_type": "code",
   "execution_count": null,
   "metadata": {},
   "outputs": [],
   "source": [
    "class Solution:\n",
    "    def convertTemperature(self, celsius: float\n",
    "        return [celsius + 273.15, celsius * 1.80 + 32]"
   ]
  },
  {
   "cell_type": "code",
   "execution_count": 1,
   "metadata": {},
   "outputs": [],
   "source": [
    "Celsius = float(input())\n",
    "Kelvin = Celsius + 273.15\n",
    "Fahrenheit = Celsius * 1.80 + 32.00\n",
    "print([Kelvin,Fahrenheit])"
   ]
  },
  {
   "cell_type": "markdown",
   "metadata": {},
   "source": [
    "# 2769. Find the Maximum Achievable Number\n",
    " https://leetcode.com/problems/find-the-maximum-achievable-number/"
   ]
  },
  {
   "cell_type": "markdown",
   "metadata": {},
   "source": [
    "You are given two integers, num and t.\n",
    "\n",
    "An integer x is called achievable if it can become equal to num after applying the following operation no more than t times:\n",
    "\n",
    "Increase or decrease x by 1, and simultaneously increase or decrease num by 1.\n",
    "Return the maximum possible achievable number. It can be proven that there exists at least one achievable number."
   ]
  },
  {
   "cell_type": "code",
   "execution_count": null,
   "metadata": {},
   "outputs": [],
   "source": [
    "class Solution:\n",
    "    def theMaximumAchievableX(self, num: int, t: int) -> int:\n",
    "        return num + 2*t"
   ]
  },
  {
   "cell_type": "markdown",
   "metadata": {},
   "source": [
    "# 2413. Smallest Even Multiple\n",
    "https://leetcode.com/problems/smallest-even-multiple/\n"
   ]
  },
  {
   "cell_type": "markdown",
   "metadata": {},
   "source": [
    "Given a positive integer n, return the smallest positive integer that is a multiple of both 2 and n."
   ]
  },
  {
   "cell_type": "code",
   "execution_count": null,
   "metadata": {},
   "outputs": [],
   "source": [
    "class Solution:\n",
    "    def smallestEvenMultiple(self, n: int) -> int:\n",
    "        return n if n%2 == 0 else n*2"
   ]
  },
  {
   "cell_type": "markdown",
   "metadata": {},
   "source": [
    "# 2235. Add Two Integers\n",
    "https://leetcode.com/problems/add-two-integers/"
   ]
  },
  {
   "cell_type": "markdown",
   "metadata": {},
   "source": [
    "Given two integers num1 and num2, return the sum of the two integers."
   ]
  },
  {
   "cell_type": "markdown",
   "metadata": {},
   "source": [
    "# 1281. Subtract the Product and Sum of Digits of an Integer\n",
    "https://leetcode.com/problems/subtract-the-product-and-sum-of-digits-of-an-integer/"
   ]
  },
  {
   "cell_type": "markdown",
   "metadata": {},
   "source": []
  },
  {
   "cell_type": "code",
   "execution_count": 7,
   "metadata": {},
   "outputs": [
    {
     "data": {
      "text/plain": [
       "['123']"
      ]
     },
     "execution_count": 7,
     "metadata": {},
     "output_type": "execute_result"
    }
   ],
   "source": [
    "n = 123\n",
    "k = str(n)\n",
    "k.split(' ')"
   ]
  },
  {
   "cell_type": "code",
   "execution_count": 3,
   "metadata": {},
   "outputs": [
    {
     "data": {
      "text/plain": [
       "'1 234 567'"
      ]
     },
     "execution_count": 3,
     "metadata": {},
     "output_type": "execute_result"
    }
   ],
   "source": [
    "x = 1234567\n",
    "'{0:,}'.format(x).replace(',', ' ')"
   ]
  },
  {
   "cell_type": "code",
   "execution_count": null,
   "metadata": {},
   "outputs": [],
   "source": [
    "num % 10 - получаешь самую правую цифру числа num\n",
    "num = num // 10 - удаляешь самую правую цифру из числа num."
   ]
  },
  {
   "cell_type": "code",
   "execution_count": 56,
   "metadata": {},
   "outputs": [
    {
     "data": {
      "text/plain": [
       "[3]"
      ]
     },
     "execution_count": 56,
     "metadata": {},
     "output_type": "execute_result"
    }
   ],
   "source": [
    "num = 123\n",
    "lst = []\n",
    "\n",
    "fig1 = num % 10 #  first figure from the end\n",
    "num = num//10 # delete last figure from the nymber\n",
    "\n",
    "lst.append(fig1)\n",
    "\n",
    "# fig2 = num % 10 # #  second figure from the end\n",
    "# num = num//10 #  delete lsecond figure from the end of the nymber\n",
    "\n",
    "# num, fig2, fig1\n",
    "lst"
   ]
  },
  {
   "cell_type": "code",
   "execution_count": 59,
   "metadata": {},
   "outputs": [
    {
     "data": {
      "text/plain": [
       "4"
      ]
     },
     "execution_count": 59,
     "metadata": {},
     "output_type": "execute_result"
    }
   ],
   "source": [
    "len(str(1238))"
   ]
  },
  {
   "cell_type": "code",
   "execution_count": 70,
   "metadata": {},
   "outputs": [
    {
     "name": "stdout",
     "output_type": "stream",
     "text": [
      "[7, 3, 2, 1]\n",
      "13\n",
      "42\n"
     ]
    }
   ],
   "source": [
    "import math\n",
    "num = 1237\n",
    "# num_count = len(str(num))\n",
    "ls = []\n",
    "for _ in range(len(str(num))-1):\n",
    "\n",
    "    fig1 = num % 10 #  first figure from the end\n",
    "    num = num//10 # delete last figure from the nymber\n",
    "    ls.append(fig1)\n",
    "ls.append(num)\n",
    "  \n",
    "print(ls)\n",
    "print(sum(ls))\n",
    "print(math.prod(ls))\n",
    "    # print(num, fig1)\n",
    "#fig2 = num % 10 # #  second figure from the end\n",
    "#num = num//10 #  delete lsecond figure from the end of the nymber\n",
    "#\n",
    "#num, fig2, fig1"
   ]
  },
  {
   "cell_type": "code",
   "execution_count": null,
   "metadata": {},
   "outputs": [],
   "source": [
    "def subtractProductAndSum(self, n: int) -> int:\n",
    "import functools\n",
    "from functools import reduce\n",
    "a = list(map(int, iter(str(n))))\n",
    "return reduce(lambda x,y: x*y, a) - reduce(lambda x,y: x+y, a)"
   ]
  },
  {
   "cell_type": "code",
   "execution_count": null,
   "metadata": {},
   "outputs": [],
   "source": [
    "def sumDandprodD(n):\n",
    "    s = 0\n",
    "    p = 1\n",
    "    while n>0:\n",
    "        s += n%10\n",
    "        p = p*(n%10)\n",
    "        n = n//10\n",
    "    return (p-s)\n",
    "return sumDandprodD(n)"
   ]
  },
  {
   "cell_type": "code",
   "execution_count": 73,
   "metadata": {},
   "outputs": [
    {
     "name": "stdout",
     "output_type": "stream",
     "text": [
      "29 42 13 0\n"
     ]
    }
   ],
   "source": [
    "n = 1237\n",
    "s = 0 # sum \n",
    "p = 1 # production\n",
    "while n>0:\n",
    "    s += n%10\n",
    "    p = p*(n%10)\n",
    "    n = n//10 \n",
    "print((p-s), p, s, n)"
   ]
  },
  {
   "cell_type": "code",
   "execution_count": null,
   "metadata": {},
   "outputs": [],
   "source": [
    "import math\n",
    "num = 1237\n",
    "\n",
    "ls = []\n",
    "for _ in range(len(str(num))-1):\n",
    "\n",
    "    fig1 = num % 10 #  first figure from the end\n",
    "    num = num//10 # delete last figure from the nymber\n",
    "    ls.append(fig1)\n",
    "ls.append(num)\n",
    "print(ls)\n",
    "print(sum(ls))\n",
    "print(math.prod(ls))"
   ]
  },
  {
   "cell_type": "code",
   "execution_count": null,
   "metadata": {},
   "outputs": [],
   "source": [
    "# Accepted\n",
    "class Solution:\n",
    "    def subtractProductAndSum(self, n: int) -> int:\n",
    "        import math\n",
    "\n",
    "        ls = []\n",
    "        for _ in range(len(str(n))-1):\n",
    "\n",
    "            fig1 = n % 10 #  first figure from the end\n",
    "            n = n//10 # delete last figure from the nymber\n",
    "            ls.append(fig1)\n",
    "        ls.append(n)\n",
    "        return math.prod(ls)- sum(ls)"
   ]
  },
  {
   "cell_type": "code",
   "execution_count": null,
   "metadata": {},
   "outputs": [],
   "source": [
    "def subtractProductAndSum(n)t:\n",
    "    return eval('*'.join(str(n))) - eval('+'.join(str(n)))"
   ]
  },
  {
   "cell_type": "markdown",
   "metadata": {},
   "source": [
    "# 2160. Minimum Sum of Four Digit Number After Splitting Digits\n",
    "https://leetcode.com/problems/minimum-sum-of-four-digit-number-after-splitting-digits/"
   ]
  },
  {
   "cell_type": "code",
   "execution_count": 83,
   "metadata": {},
   "outputs": [
    {
     "data": {
      "text/plain": [
       "['5', '6', '7', '8', '9']"
      ]
     },
     "execution_count": 83,
     "metadata": {},
     "output_type": "execute_result"
    }
   ],
   "source": [
    "sorted(str(56879))"
   ]
  },
  {
   "cell_type": "code",
   "execution_count": 84,
   "metadata": {},
   "outputs": [
    {
     "name": "stdout",
     "output_type": "stream",
     "text": [
      "['P', 'h', 'n', 'o', 't', 'y']\n"
     ]
    }
   ],
   "source": [
    "py_string = 'Python'\n",
    "print(sorted(py_string))"
   ]
  },
  {
   "cell_type": "code",
   "execution_count": 88,
   "metadata": {},
   "outputs": [
    {
     "name": "stdout",
     "output_type": "stream",
     "text": [
      "['2', '2', '3', '9']\n",
      "52\n"
     ]
    }
   ],
   "source": [
    "num = 2932\n",
    "d = sorted(str(num))\n",
    "print(d)\n",
    "print(int(d[0] + d[2]) + int(d[1] + d[3]))"
   ]
  },
  {
   "cell_type": "code",
   "execution_count": 85,
   "metadata": {},
   "outputs": [
    {
     "data": {
      "text/plain": [
       "52"
      ]
     },
     "execution_count": 85,
     "metadata": {},
     "output_type": "execute_result"
    }
   ],
   "source": [
    "23+29"
   ]
  }
 ],
 "metadata": {
  "kernelspec": {
   "display_name": "base",
   "language": "python",
   "name": "python3"
  },
  "language_info": {
   "codemirror_mode": {
    "name": "ipython",
    "version": 3
   },
   "file_extension": ".py",
   "mimetype": "text/x-python",
   "name": "python",
   "nbconvert_exporter": "python",
   "pygments_lexer": "ipython3",
   "version": "3.11.4"
  },
  "orig_nbformat": 4
 },
 "nbformat": 4,
 "nbformat_minor": 2
}
