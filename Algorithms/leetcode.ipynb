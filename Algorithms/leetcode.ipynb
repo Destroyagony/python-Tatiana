{
 "cells": [
  {
   "cell_type": "code",
   "execution_count": 8,
   "metadata": {},
   "outputs": [
    {
     "data": {
      "text/plain": [
       "True"
      ]
     },
     "execution_count": 8,
     "metadata": {},
     "output_type": "execute_result"
    }
   ],
   "source": [
    "class Solution:\n",
    "    def isPalindrome(self, x: int) -> bool:\n",
    "        return  str(x) == str(x)[::-1]\n",
    "\n",
    "object1= Solution()# создание объекта или экземпляра класса\n",
    "dir(object1)\n",
    "object1.isPalindrome(101)"
   ]
  },
  {
   "cell_type": "code",
   "execution_count": 14,
   "metadata": {},
   "outputs": [
    {
     "data": {
      "text/plain": [
       "<__main__.Solution at 0x7f8ec2b63850>"
      ]
     },
     "execution_count": 14,
     "metadata": {},
     "output_type": "execute_result"
    }
   ],
   "source": [
    "# Конструктор класса\n",
    "class Solution:\n",
    "    def __init__(self,x1) -> None: # Конструтор класса\n",
    "        self.x = x1 # создание свойства класса = переменной класса\n",
    "    \n",
    "    def isPalindrome(self) -> bool:\n",
    "            return  str(self.x) == str(self.x)[::-1]\n",
    "    \n",
    "object1= Solution(101)# создание объекта или экземпляра класса\n",
    "object1.isPalindrome()\n",
    "object1"
   ]
  },
  {
   "cell_type": "code",
   "execution_count": null,
   "metadata": {},
   "outputs": [],
   "source": [
    "class Cate:\n",
    "\n",
    "    data =  2022 # создание свойства класса явно\n",
    "\n",
    "    def isPalindrome(self) -> bool:\n",
    "            return  str(Cate.data) == str(Cate.data)[::-1]\n",
    "    \n"
   ]
  },
  {
   "cell_type": "markdown",
   "metadata": {},
   "source": [
    "Класс - это кониейнер для функций. \n",
    "Переменные в классе называются свойствами класса.\n",
    "Функции  в классе называются  методы класса. "
   ]
  },
  {
   "cell_type": "code",
   "execution_count": 4,
   "metadata": {},
   "outputs": [
    {
     "data": {
      "text/plain": [
       "'olleh'"
      ]
     },
     "execution_count": 4,
     "metadata": {},
     "output_type": "execute_result"
    }
   ],
   "source": [
    "name =  'hello'\n",
    "name[0]\n",
    "name[::2]\n",
    "name[::-1]"
   ]
  }
 ],
 "metadata": {
  "kernelspec": {
   "display_name": "base",
   "language": "python",
   "name": "python3"
  },
  "language_info": {
   "codemirror_mode": {
    "name": "ipython",
    "version": 3
   },
   "file_extension": ".py",
   "mimetype": "text/x-python",
   "name": "python",
   "nbconvert_exporter": "python",
   "pygments_lexer": "ipython3",
   "version": "3.11.4"
  },
  "orig_nbformat": 4
 },
 "nbformat": 4,
 "nbformat_minor": 2
}
