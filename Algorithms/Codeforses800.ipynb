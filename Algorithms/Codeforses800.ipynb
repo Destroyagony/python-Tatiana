{
 "cells": [
  {
   "cell_type": "markdown",
   "metadata": {},
   "source": [
    "# 01_Задача о делимости\n",
    "https://codeforces.com/problemset/problem/1328/A"
   ]
  },
  {
   "cell_type": "code",
   "execution_count": 1,
   "metadata": {},
   "outputs": [],
   "source": [
    "t = int(input())\n",
    "for I in range(t):\n",
    "    a, b = map(int,input().split())\n",
    "    step = 0\n",
    "    while a%b != 0:\n",
    "        a +=1\n",
    "        step +=1\n",
    "    print(step)"
   ]
  },
  {
   "cell_type": "markdown",
   "metadata": {},
   "source": [
    "# 02_Конфеты и две сестры"
   ]
  },
  {
   "cell_type": "markdown",
   "metadata": {},
   "source": [
    "https://codeforces.com/problemset/problem/1335/A"
   ]
  },
  {
   "cell_type": "code",
   "execution_count": null,
   "metadata": {},
   "outputs": [],
   "source": [
    "t = int(input())\n",
    "for _ in range(t):\n",
    "\n",
    "    num_candies = int(input()) \n",
    "    if num_candies % 2 != 0:\n",
    "        print(num_candies//2)\n",
    "    elif num_candies % 2 == 0:\n",
    "        print(num_candies // 2 - 1)\n",
    "    else:\n",
    "        print(0)"
   ]
  },
  {
   "cell_type": "markdown",
   "metadata": {},
   "source": [
    "# 03_ Необходимый остаток\n",
    "https://codeforces.com/problemset/problem/1374/A"
   ]
  },
  {
   "cell_type": "code",
   "execution_count": null,
   "metadata": {},
   "outputs": [],
   "source": [
    "t = int(input())\n",
    "for I in range(t):\n",
    "    x, y, n = map(int,input().split())\n",
    "    l = (n-y)//x\n",
    "    m = ((n-y)//x)*x+y\n",
    "    print(m)"
   ]
  },
  {
   "cell_type": "markdown",
   "metadata": {},
   "source": [
    "# 04_Плюс один на подмножестве\n",
    "https://codeforces.com/problemset/problem/1624/A"
   ]
  },
  {
   "cell_type": "code",
   "execution_count": null,
   "metadata": {},
   "outputs": [],
   "source": [
    "# excepted by codeforces\n",
    "t = int(input())\n",
    "for _ in range(t):\n",
    "    set_length = int(input())\n",
    "    entered_list = list(map(int, input().split()))\n",
    "    print(max(entered_list)- min(entered_list))"
   ]
  },
  {
   "cell_type": "markdown",
   "metadata": {},
   "source": [
    "# 05_ Подсчет функции\n",
    "https://codeforces.com/problemset/problem/486/A"
   ]
  },
  {
   "cell_type": "code",
   "execution_count": null,
   "metadata": {},
   "outputs": [],
   "source": [
    "n = int(input())\n",
    "\n",
    "if n % 2 == 0:\n",
    "    print(n // 2)\n",
    "else:\n",
    "    print(-(n // 2 + 1))"
   ]
  },
  {
   "cell_type": "code",
   "execution_count": null,
   "metadata": {},
   "outputs": [],
   "source": [
    "n = int(input())\n",
    "num = 0\n",
    "for i in range(1, n+1):\n",
    "    funct = (-1)**i*i\n",
    "    num += funct\n",
    "print(num)"
   ]
  },
  {
   "cell_type": "code",
   "execution_count": null,
   "metadata": {},
   "outputs": [],
   "source": []
  },
  {
   "cell_type": "markdown",
   "metadata": {},
   "source": [
    "# 06_Слишком длинные слова\n",
    "https://codeforces.com/problemset/problem/71/A"
   ]
  },
  {
   "cell_type": "code",
   "execution_count": null,
   "metadata": {},
   "outputs": [],
   "source": [
    "n = int(input())\n",
    "\n",
    "for i in range(n):\n",
    "    word = input()\n",
    "    if len(word) > 10:\n",
    "        print(word[0]+str(len(word)-2)+word[-1])\n",
    "    else:\n",
    "        print(word)"
   ]
  },
  {
   "cell_type": "markdown",
   "metadata": {},
   "source": [
    "# 07_Укладка доминошками\n",
    "https://codeforces.com/problemset/problem/50/A"
   ]
  },
  {
   "cell_type": "code",
   "execution_count": null,
   "metadata": {},
   "outputs": [],
   "source": [
    "x, y = map(int, input().split())\n",
    "board_size = x*y\n",
    "num_dominoes = board_size // 2\n",
    "num_dominoes"
   ]
  },
  {
   "cell_type": "markdown",
   "metadata": {},
   "source": [
    "# 08_546A Содлат и бананы\n",
    "https://codeforces.com/problemset/problem/546/A"
   ]
  },
  {
   "cell_type": "code",
   "execution_count": null,
   "metadata": {},
   "outputs": [],
   "source": [
    "k, n, w =map(int, input().split())\n",
    "\n",
    "price_all_bananas = 0\n",
    "for i in range(1, w+1):\n",
    "    price_all_bananas = i * k + price_all_bananas\n",
    "if n >= price_all_bananas:\n",
    "    print(0)\n",
    "else:\n",
    "    print(price_all_bananas-n)"
   ]
  },
  {
   "cell_type": "markdown",
   "metadata": {},
   "source": [
    "# 09_Слоник\n",
    "https://codeforces.com/problemset/problem/617/A"
   ]
  },
  {
   "cell_type": "code",
   "execution_count": null,
   "metadata": {},
   "outputs": [],
   "source": [
    "distance = int(input())\n",
    "step_size = 5\n",
    "num_steps = 0\n",
    "\n",
    "while distance != 0:\n",
    "    steps = distance // step_size\n",
    "    if steps >=1:\n",
    "        distance = distance-step_size*steps\n",
    "        num_steps += steps\n",
    "        step_size -=1\n",
    "    if steps <=0:\n",
    "        step_size -=1\n",
    "print(num_steps)"
   ]
  },
  {
   "cell_type": "markdown",
   "metadata": {},
   "source": [
    "# 10_Арбуз\n",
    "https://codeforces.com/problemset/problem/4/A"
   ]
  },
  {
   "cell_type": "code",
   "execution_count": null,
   "metadata": {},
   "outputs": [],
   "source": [
    "\n",
    "w = int(input())\n",
    "if w % 2 == 0 and w > 2:\n",
    "    print(\"yes\")\n",
    "else:\n",
    "    print(\"no\")"
   ]
  }
 ],
 "metadata": {
  "kernelspec": {
   "display_name": "base",
   "language": "python",
   "name": "python3"
  },
  "language_info": {
   "codemirror_mode": {
    "name": "ipython",
    "version": 3
   },
   "file_extension": ".py",
   "mimetype": "text/x-python",
   "name": "python",
   "nbconvert_exporter": "python",
   "pygments_lexer": "ipython3",
   "version": "3.11.4"
  },
  "orig_nbformat": 4
 },
 "nbformat": 4,
 "nbformat_minor": 2
}
