{
 "cells": [
  {
   "cell_type": "code",
   "execution_count": 1,
   "metadata": {},
   "outputs": [],
   "source": [
    "import numpy as np"
   ]
  },
  {
   "cell_type": "markdown",
   "metadata": {},
   "source": [
    "Task 1.1."
   ]
  },
  {
   "cell_type": "markdown",
   "metadata": {},
   "source": [
    "a)Prove that the operatin of vector additing has the following properties to be true:\n",
    "a+0=a"
   ]
  },
  {
   "cell_type": "code",
   "execution_count": 15,
   "metadata": {},
   "outputs": [],
   "source": [
    "a = np.array([2, 7], dtype='int8')# vector array\n",
    "b = np.zeros(2, dtype='int8') # creating a zero vector, size()\n"
   ]
  },
  {
   "cell_type": "code",
   "execution_count": 19,
   "metadata": {},
   "outputs": [
    {
     "name": "stdout",
     "output_type": "stream",
     "text": [
      "(2,) (2,)\n"
     ]
    },
    {
     "data": {
      "text/plain": [
       "' As we can see the sizes of vectors a and b are equal.\\n Thus we can add one vector to another '"
      ]
     },
     "execution_count": 19,
     "metadata": {},
     "output_type": "execute_result"
    }
   ],
   "source": [
    "print(a.shape, b.shape)\n",
    "''' As we can see the sizes of vectors a and b are equal.\n",
    " Thus we can add one vector to another '''"
   ]
  },
  {
   "cell_type": "code",
   "execution_count": 17,
   "metadata": {},
   "outputs": [
    {
     "name": "stdout",
     "output_type": "stream",
     "text": [
      "[2 7] int8\n"
     ]
    }
   ],
   "source": [
    "c = a+b\n",
    "print(c, c.dtype)"
   ]
  },
  {
   "cell_type": "markdown",
   "metadata": {},
   "source": [
    "b) a1 + a2 = a2 + a1 - commutativity"
   ]
  },
  {
   "cell_type": "code",
   "execution_count": 21,
   "metadata": {},
   "outputs": [],
   "source": [
    "# we create 2 vectors of equal size and then check the commutativity property\n",
    "a1 = np.array([4, 5, 8])\n",
    "a2 = np.array([8, 4, 1])\n"
   ]
  },
  {
   "cell_type": "code",
   "execution_count": 30,
   "metadata": {},
   "outputs": [
    {
     "name": "stdout",
     "output_type": "stream",
     "text": [
      "The commutativity property has been proven:a1+a2 = a2+a1[ True  True  True] \n"
     ]
    }
   ],
   "source": [
    "if np.any(a1+a2 == a2+a1):\n",
    "    print(f\"The commutativity property has been proven:a1+a2 = a2+a1{a1+a2 == a2+a1} \")\n",
    "else:\n",
    "    print(\"The commutativity's faild\")"
   ]
  },
  {
   "cell_type": "code",
   "execution_count": null,
   "metadata": {},
   "outputs": [],
   "source": []
  },
  {
   "cell_type": "code",
   "execution_count": 4,
   "metadata": {},
   "outputs": [],
   "source": [
    "k, n, w =map(int, input().split())\n",
    "\n",
    "price_all_bananas = 0\n",
    "for i in range(1, w+1):\n",
    "    price_one_banana = i * k \n",
    "    price_all_bananas += price_one_banana\n",
    "\n",
    "    if n >= price_all_bananas:\n",
    "        print(0)\n",
    "    else:\n",
    "        print(price_all_banana)"
   ]
  },
  {
   "cell_type": "markdown",
   "metadata": {},
   "source": []
  }
 ],
 "metadata": {
  "kernelspec": {
   "display_name": "base",
   "language": "python",
   "name": "python3"
  },
  "language_info": {
   "codemirror_mode": {
    "name": "ipython",
    "version": 3
   },
   "file_extension": ".py",
   "mimetype": "text/x-python",
   "name": "python",
   "nbconvert_exporter": "python",
   "pygments_lexer": "ipython3",
   "version": "3.11.4"
  },
  "orig_nbformat": 4
 },
 "nbformat": 4,
 "nbformat_minor": 2
}
