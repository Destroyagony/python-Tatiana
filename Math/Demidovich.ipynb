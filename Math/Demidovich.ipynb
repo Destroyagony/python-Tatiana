{
 "cells": [
  {
   "cell_type": "code",
   "execution_count": 5,
   "metadata": {},
   "outputs": [],
   "source": [
    "import numpy as np\n",
    "import matplotlib.pyplot as plt"
   ]
  },
  {
   "cell_type": "markdown",
   "metadata": {},
   "source": [
    "Task 1.1."
   ]
  },
  {
   "cell_type": "markdown",
   "metadata": {},
   "source": [
    "a)Prove that the operatin of vector additing has the following properties to be true:\n",
    "a+0=a"
   ]
  },
  {
   "cell_type": "code",
   "execution_count": 15,
   "metadata": {},
   "outputs": [],
   "source": [
    "a = np.array([2, 7], dtype='int8')# vector array\n",
    "b = np.zeros(2, dtype='int8') # creating a zero vector, size()\n"
   ]
  },
  {
   "cell_type": "code",
   "execution_count": 19,
   "metadata": {},
   "outputs": [
    {
     "name": "stdout",
     "output_type": "stream",
     "text": [
      "(2,) (2,)\n"
     ]
    },
    {
     "data": {
      "text/plain": [
       "' As we can see the sizes of vectors a and b are equal.\\n Thus we can add one vector to another '"
      ]
     },
     "execution_count": 19,
     "metadata": {},
     "output_type": "execute_result"
    }
   ],
   "source": [
    "print(a.shape, b.shape)\n",
    "''' As we can see the sizes of vectors a and b are equal.\n",
    " Thus we can add one vector to another '''"
   ]
  },
  {
   "cell_type": "code",
   "execution_count": 17,
   "metadata": {},
   "outputs": [
    {
     "name": "stdout",
     "output_type": "stream",
     "text": [
      "[2 7] int8\n"
     ]
    }
   ],
   "source": [
    "c = a+b\n",
    "print(c, c.dtype)"
   ]
  },
  {
   "cell_type": "markdown",
   "metadata": {},
   "source": [
    "b) a1 + a2 = a2 + a1 - commutativity"
   ]
  },
  {
   "cell_type": "code",
   "execution_count": 21,
   "metadata": {},
   "outputs": [],
   "source": [
    "# we create 2 vectors of equal size and then check the commutativity property\n",
    "a1 = np.array([4, 5, 8])\n",
    "a2 = np.array([8, 4, 1])\n"
   ]
  },
  {
   "cell_type": "code",
   "execution_count": 30,
   "metadata": {},
   "outputs": [
    {
     "name": "stdout",
     "output_type": "stream",
     "text": [
      "The commutativity property has been proven:a1+a2 = a2+a1[ True  True  True] \n"
     ]
    }
   ],
   "source": [
    "if np.any(a1+a2 == a2+a1):\n",
    "    print(f\"The commutativity property has been proven:a1+a2 = a2+a1{a1+a2 == a2+a1} \")\n",
    "else:\n",
    "    print(\"The commutativity's faild\")"
   ]
  },
  {
   "cell_type": "code",
   "execution_count": 55,
   "metadata": {},
   "outputs": [
    {
     "data": {
      "image/png": "[encoded data removed]",
      "text/plain": [
       "<Figure size 640x480 with 1 Axes>"
      ]
     },
     "metadata": {},
     "output_type": "display_data"
    },
    {
     "name": "stdout",
     "output_type": "stream",
     "text": [
      "True\n",
      "True\n",
      "True\n"
     ]
    }
   ],
   "source": [
    "import matplotlib.pyplot as plt\n",
    "import numpy as np\n",
    "\n",
    "# Create a single vector\n",
    "V = np.array([1,1])\n",
    "V2 =np.array([1, -1])\n",
    "V3= np.array([-2,0])\n",
    "\n",
    "V4= np.array([1,-1])\n",
    "V5= np.array([1,1])\n",
    "V6= np.array([2,0])\n",
    "# Create the plot\n",
    "fig, ax = plt.subplots()\n",
    "\n",
    "# Add the vector V to the plot\n",
    "ax.quiver(0, 0, V[0], V[1], angles='xy', scale_units='xy', scale=1, color='r')\n",
    "ax.quiver(-1, 1, V2[0], V2[1], angles='xy', scale_units='xy', scale=1, color='g')\n",
    "ax.quiver(1, 1, V3[0], V3[1], angles='xy', scale_units='xy', scale=1, color='b')\n",
    "\n",
    "ax.quiver(0, 2, V4[0], V4[1], angles='xy', scale_units='xy', scale=1, color='g')\n",
    "ax.quiver(-1, 1, V5[0], V5[1], angles='xy', scale_units='xy', scale=1, color='r')\n",
    "ax.quiver(-1, 1, V6[0], V6[1], angles='xy', scale_units='xy', scale=1, color='y')\n",
    "# Set the x-limits and y-limits of the plot\n",
    "ax.set_xlim([-2, 2])\n",
    "ax.set_ylim([-2, 2])\n",
    "\n",
    "# Show the plot along with the grid\n",
    "plt.grid()\n",
    "plt.show()\n",
    "\n",
    "print(len(V) == len(V5))\n",
    "print(len(V2) == len(V4))\n",
    "print(len(V3) == len(V6))"
   ]
  },
  {
   "cell_type": "markdown",
   "metadata": {},
   "source": [
    "c)Prove:  а1 + (а2 + аз) = (а1 + а2 ) + аз  \n",
    "The associative law, which states that the sum of three vectors does not depend on which pair of vectors is added first:\n"
   ]
  },
  {
   "cell_type": "code",
   "execution_count": 54,
   "metadata": {},
   "outputs": [
    {
     "name": "stdout",
     "output_type": "stream",
     "text": [
      "True\n",
      " (a+(b+c))==(b+(c+a)): \n",
      " [8 6][8 6]\n"
     ]
    }
   ],
   "source": [
    "a = np.array([1,2])\n",
    "b = np.array([4,-1])\n",
    "c = np.array([3, 5])\n",
    "\n",
    "d = (a+(b+c))\n",
    "k = (b+(c+a))\n",
    "  \n",
    "print(len(d)==len(k))\n",
    "print(f' (a+(b+c))==(b+(c+a)): \\n {(a+(b+c))}{(b+(c+a))}')\n",
    "            "
   ]
  },
  {
   "cell_type": "markdown",
   "metadata": {},
   "source": [
    "g) Prove : for any a exists such b that a + b =0"
   ]
  },
  {
   "cell_type": "markdown",
   "metadata": {},
   "source": [
    "a  - is a vector. therefore it is characterised by magnitude and direction. There always exist an opposit vector -a for vector a. Those two will have equal magnitude but opposite direction. Because of these two characteristics their sum quals 0."
   ]
  },
  {
   "cell_type": "code",
   "execution_count": 63,
   "metadata": {},
   "outputs": [
    {
     "name": "stdout",
     "output_type": "stream",
     "text": [
      "Vector a is opposite to vector b:\n",
      "[5 4 3 1]\n",
      "[-5 -4 -3 -1]\n",
      "Magnitude of vector a equals the one of b: 4=4\n",
      "The sum of vector a and its opposite vector b equals 0: a+b = [0 0 0 0] \n"
     ]
    }
   ],
   "source": [
    "a = np.array([5, 4, 3, 1])\n",
    "b = a1*(-1)\n",
    "print( f'Vector a is opposite to vector b:\\n{a}\\n{b}')\n",
    "print(f'Magnitude of vector a equals the one of b: {len(a)}={len(b)}')\n",
    "print(f\"The sum of vector a and its opposite vector b equals 0: a+b = {a+b} \")"
   ]
  },
  {
   "cell_type": "markdown",
   "metadata": {},
   "source": [
    "d) Prove: there is always exists such vector a3 that quals to subtraction of vector a1 from vector a2 (a3 = a2-a1 or a1 + a3 = a2 )"
   ]
  },
  {
   "cell_type": "code",
   "execution_count": 73,
   "metadata": {},
   "outputs": [
    {
     "name": "stdout",
     "output_type": "stream",
     "text": [
      "minuend - subtrahend = difference \n",
      " [7 5 8 3] - [2 3 1 2] = [5 2 7 1]\n",
      "\n",
      "minuend = difference  + subtrahend  \n",
      " [5 2 7 1] + [2 3 1 2] = [7 5 8 3]\n"
     ]
    }
   ],
   "source": [
    "a1 = np.array([2, 3, 1, 2]) # subtrahend\n",
    "a2 = np.array([7, 5, 8, 3]) # minuend\n",
    "a3 = np.subtract(a2, a1) # difference : a3 = a2-a1\n",
    "\n",
    "print(f'minuend - subtrahend = difference \\n {a2} - {a1} = {a3}\\n')\n",
    "print(f'minuend = difference  + subtrahend  \\n {a3} + {a1} = {a2}')"
   ]
  }
 ],
 "metadata": {
  "kernelspec": {
   "display_name": "base",
   "language": "python",
   "name": "python3"
  },
  "language_info": {
   "codemirror_mode": {
    "name": "ipython",
    "version": 3
   },
   "file_extension": ".py",
   "mimetype": "text/x-python",
   "name": "python",
   "nbconvert_exporter": "python",
   "pygments_lexer": "ipython3",
   "version": "3.11.4"
  },
  "orig_nbformat": 4
 },
 "nbformat": 4,
 "nbformat_minor": 2
}
